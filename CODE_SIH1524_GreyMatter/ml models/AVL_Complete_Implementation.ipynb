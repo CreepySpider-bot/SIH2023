{
  "nbformat": 4,
  "nbformat_minor": 0,
  "metadata": {
    "colab": {
      "provenance": []
    },
    "kernelspec": {
      "name": "python3",
      "display_name": "Python 3"
    },
    "language_info": {
      "name": "python"
    }
  },
  "cells": [
    {
      "cell_type": "code",
      "execution_count": 5,
      "metadata": {
        "id": "ctaRwDuLVvd7"
      },
      "outputs": [],
      "source": [
        "import pickle\n",
        "import pandas as pd\n",
        "import datetime\n",
        "import pytz\n",
        "import cabby\n",
        "from lxml import etree\n",
        "\n",
        "class AVLNode:\n",
        "    def __init__(self, key):\n",
        "        self.key = key\n",
        "        self.height = 1\n",
        "        self.left = None\n",
        "        self.right = None\n",
        "\n",
        "class AVLTree:\n",
        "    def __init__(self):\n",
        "        self.root = None\n",
        "\n",
        "    def height(self, node):\n",
        "        if node is None:\n",
        "            return 0\n",
        "        return node.height\n",
        "\n",
        "    def balance_factor(self, node):\n",
        "        if node is None:\n",
        "            return 0\n",
        "        return self.height(node.left) - self.height(node.right)\n",
        "\n",
        "    def rotate_right(self, y):\n",
        "        x = y.left\n",
        "        T2 = x.right\n",
        "\n",
        "        x.right = y\n",
        "        y.left = T2\n",
        "\n",
        "        y.height = 1 + max(self.height(y.left), self.height(y.right))\n",
        "        x.height = 1 + max(self.height(x.left), self.height(x.right))\n",
        "\n",
        "        return x\n",
        "\n",
        "    def rotate_left(self, x):\n",
        "        y = x.right\n",
        "        T2 = y.left\n",
        "\n",
        "        y.left = x\n",
        "        x.right = T2\n",
        "\n",
        "        x.height = 1 + max(self.height(x.left), self.height(x.right))\n",
        "        y.height = 1 + max(self.height(y.left), self.height(y.right))\n",
        "\n",
        "        return y\n",
        "\n",
        "    def insert(self, root, key):\n",
        "        if root is None:\n",
        "            return AVLNode(key)\n",
        "\n",
        "        if key < root.key:\n",
        "            root.left = self.insert(root.left, key)\n",
        "        elif key > root.key:\n",
        "            root.right = self.insert(root.right, key)\n",
        "        else:\n",
        "            return root\n",
        "\n",
        "        root.height = 1 + max(self.height(root.left), self.height(root.right))\n",
        "\n",
        "        balance = self.balance_factor(root)\n",
        "\n",
        "        # Left Heavy\n",
        "        if balance > 1:\n",
        "            if key < root.left.key:\n",
        "                return self.rotate_right(root)\n",
        "            else:\n",
        "                root.left = self.rotate_left(root.left)\n",
        "                return self.rotate_right(root)\n",
        "\n",
        "        # Right Heavy\n",
        "        if balance < -1:\n",
        "            if key > root.right.key:\n",
        "                return self.rotate_left(root)\n",
        "            else:\n",
        "                root.right = self.rotate_right(root.right)\n",
        "                return self.rotate_left(root)\n",
        "\n",
        "        return root\n",
        "\n",
        "    def insert_domain(self, key):\n",
        "        self.root = self.insert(self.root, key)\n",
        "\n",
        "\n",
        "\n",
        "    def search(self, root, key):\n",
        "        if root is None or root.key == key:\n",
        "            return root\n",
        "\n",
        "        if key < root.key:\n",
        "            return self.search(root.left, key)\n",
        "        return self.search(root.right, key)\n",
        "\n",
        "    def search_domain(self, key):\n",
        "        return self.search(self.root, key)\n",
        "\n",
        "    def inorder_traversal(self, root, result):\n",
        "        if root:\n",
        "            self.inorder_traversal(root.left, result)\n",
        "            result.append(root.key)\n",
        "            self.inorder_traversal(root.right, result)\n",
        "\n",
        "\n",
        "    def save_to_file(self, filename):\n",
        "        with open(filename, 'wb') as file:\n",
        "            pickle.dump(self.root, file)\n",
        "        print(\"Database Updated\")\n",
        "\n",
        "    def load_from_file(self, filename):\n",
        "        try:\n",
        "            with open(filename, 'rb') as file:\n",
        "                self.root = pickle.load(file)\n",
        "        except FileNotFoundError:\n",
        "            pass  # File doesn't exist, start with an empty tree\n",
        "\n",
        "    def search_result(self, key):\n",
        "        search_result = self.search_domain(key)\n",
        "        if search_result:\n",
        "            print(f\"{search_result.key} found!\")\n",
        "        else:\n",
        "            print(\"Domain not found.\")\n",
        "\n",
        "    def build_and_save_new_tree(self):\n",
        "        new_avl = AVLTree()\n",
        "        new_avl.load_from_file('new_avl_tree.pkl')\n",
        "        taxii_server = \"https://otx.alienvault.com/taxii/poll\"\n",
        "        collection_name = \"user_AlienVault\"\n",
        "        username = \"0725b45940f32b2423097f41154bd111c94e526d10c3fac501356be02ceb436c\"\n",
        "        begin_date = datetime.datetime(2023, 12, 10, 0, 0, 0, tzinfo=pytz.utc)\n",
        "\n",
        "        # Create a TAXII client\n",
        "        client = cabby.create_client(discovery_url=taxii_server, version=\"1.1\", headers={\"username\": username, \"password\": \"abcd\"})\n",
        "\n",
        "        # Get the collection for polling\n",
        "        collections = client.get_collections()\n",
        "        collection = next((c for c in collections if c.name == collection_name), None)\n",
        "\n",
        "        if collection:\n",
        "            # Perform the poll request\n",
        "            poll_result = client.poll(collection.name, begin_date=begin_date)\n",
        "\n",
        "            # Process the poll result\n",
        "            for content_block in poll_result:\n",
        "                print(\"Received Content Block:\")\n",
        "\n",
        "\n",
        "                # Parse the content block as XML\n",
        "                xml_content = etree.fromstring(content_block.content)\n",
        "\n",
        "                # Extract the domain value\n",
        "                namespace = {'DomainNameObj': 'http://cybox.mitre.org/objects#DomainNameObject-1'}\n",
        "                domain_element = xml_content.find('.//DomainNameObj:Value', namespaces=namespace)\n",
        "                if domain_element is not None:\n",
        "\n",
        "                  domain_value = domain_element.text\n",
        "\n",
        "                  if new_avl.search_domain(domain_value):\n",
        "                    print(\"Already here not inserted\")\n",
        "                    continue\n",
        "                  else:\n",
        "                    new_avl.insert_domain(domain_value)\n",
        "                    print(f\"{domain_value} inserted in avl\")\n",
        "                else:\n",
        "                  print(\"nothing here\")\n",
        "\n",
        "\n",
        "            new_avl.save_to_file('new_avl_tree.pkl')\n",
        "            self.load_from_file('new_avl_tree.pkl')\n",
        "\n",
        "\n",
        "\n"
      ]
    },
    {
      "cell_type": "code",
      "source": [
        "from google.colab import drive\n",
        "drive.mount('/content/drive')"
      ],
      "metadata": {
        "colab": {
          "base_uri": "https://localhost:8080/"
        },
        "id": "fGFJAIUlqfDh",
        "outputId": "6e90f250-fee3-4e29-faa0-5f4482465b17"
      },
      "execution_count": 1,
      "outputs": [
        {
          "output_type": "stream",
          "name": "stdout",
          "text": [
            "Mounted at /content/drive\n"
          ]
        }
      ]
    },
    {
      "cell_type": "code",
      "source": [
        "avl_tree_blacklist = AVLTree()\n",
        "avl_tree_blacklist.load_from_file(\"/content/drive/MyDrive/lists/avl_tree_blacklist.pkl\")\n",
        "avl_tree_whitelist = AVLTree()\n",
        "avl_tree_whitelist.load_from_file(\"/content/drive/MyDrive/lists/avl_tree_whitelist.pkl\")"
      ],
      "metadata": {
        "id": "s0xQFT1kXrbs"
      },
      "execution_count": 6,
      "outputs": []
    },
    {
      "cell_type": "code",
      "source": [
        "import time\n",
        "start_time = time.time()\n",
        "domain_to_classify = \"meet-with-wyattdowling.ca\"\n",
        "if avl_tree_blacklist.search_result(domain_to_classify):\n",
        "  result = {'class': 'BLC', 'ipv4' : None}\n",
        "  print(result)\n",
        "elif avl_tree_whitelist.search_result(domain_to_classify):\n",
        "  result = {'class': 'LEG', 'ipv4' : 'x'}\n",
        "  print(result)\n",
        "\n",
        "\n",
        "end_time = time.time()\n",
        "execution_time = end_time - start_time\n",
        "print(f\"Search took {execution_time:.9f} seconds\")"
      ],
      "metadata": {
        "colab": {
          "base_uri": "https://localhost:8080/"
        },
        "id": "E5-BiayIX392",
        "outputId": "96b169d6-5f39-419a-c5a7-405e30e48d2d"
      },
      "execution_count": 12,
      "outputs": [
        {
          "output_type": "stream",
          "name": "stdout",
          "text": [
            "meet-with-wyattdowling.ca found!\n",
            "Domain not found.\n",
            "Search took 0.002812862 seconds\n"
          ]
        }
      ]
    },
    {
      "cell_type": "code",
      "source": [
        "!pip install cabby\n",
        "!pip install taxii2-client"
      ],
      "metadata": {
        "colab": {
          "base_uri": "https://localhost:8080/"
        },
        "id": "OB139VPMcHxP",
        "outputId": "dbaf49dd-26a8-442b-dc7e-344c4f64c415"
      },
      "execution_count": 4,
      "outputs": [
        {
          "output_type": "stream",
          "name": "stdout",
          "text": [
            "Collecting cabby\n",
            "  Downloading cabby-0.1.23-py2.py3-none-any.whl (32 kB)\n",
            "Requirement already satisfied: six in /usr/local/lib/python3.10/dist-packages (from cabby) (1.16.0)\n",
            "Collecting libtaxii>=1.1.111 (from cabby)\n",
            "  Downloading libtaxii-1.1.119-py2.py3-none-any.whl (130 kB)\n",
            "\u001b[2K     \u001b[90m━━━━━━━━━━━━━━━━━━━━━━━━━━━━━━━━━━━━━━━━\u001b[0m \u001b[32m130.8/130.8 kB\u001b[0m \u001b[31m2.1 MB/s\u001b[0m eta \u001b[36m0:00:00\u001b[0m\n",
            "\u001b[?25hCollecting colorlog (from cabby)\n",
            "  Downloading colorlog-6.8.0-py3-none-any.whl (11 kB)\n",
            "Requirement already satisfied: pytz>=2017.2 in /usr/local/lib/python3.10/dist-packages (from cabby) (2023.3.post1)\n",
            "Collecting furl>=0.4.7 (from cabby)\n",
            "  Downloading furl-2.1.3-py2.py3-none-any.whl (20 kB)\n",
            "Requirement already satisfied: requests>=2.7.0 in /usr/local/lib/python3.10/dist-packages (from cabby) (2.31.0)\n",
            "Collecting orderedmultidict>=1.0.1 (from furl>=0.4.7->cabby)\n",
            "  Downloading orderedmultidict-1.0.1-py2.py3-none-any.whl (11 kB)\n",
            "Requirement already satisfied: python-dateutil>=1.4.1 in /usr/local/lib/python3.10/dist-packages (from libtaxii>=1.1.111->cabby) (2.8.2)\n",
            "Requirement already satisfied: lxml>=2.2.3 in /usr/local/lib/python3.10/dist-packages (from libtaxii>=1.1.111->cabby) (4.9.3)\n",
            "Requirement already satisfied: charset-normalizer<4,>=2 in /usr/local/lib/python3.10/dist-packages (from requests>=2.7.0->cabby) (3.3.2)\n",
            "Requirement already satisfied: idna<4,>=2.5 in /usr/local/lib/python3.10/dist-packages (from requests>=2.7.0->cabby) (3.6)\n",
            "Requirement already satisfied: urllib3<3,>=1.21.1 in /usr/local/lib/python3.10/dist-packages (from requests>=2.7.0->cabby) (2.0.7)\n",
            "Requirement already satisfied: certifi>=2017.4.17 in /usr/local/lib/python3.10/dist-packages (from requests>=2.7.0->cabby) (2023.11.17)\n",
            "Installing collected packages: orderedmultidict, colorlog, libtaxii, furl, cabby\n",
            "Successfully installed cabby-0.1.23 colorlog-6.8.0 furl-2.1.3 libtaxii-1.1.119 orderedmultidict-1.0.1\n",
            "Collecting taxii2-client\n",
            "  Downloading taxii2_client-2.3.0-py2.py3-none-any.whl (24 kB)\n",
            "Requirement already satisfied: requests in /usr/local/lib/python3.10/dist-packages (from taxii2-client) (2.31.0)\n",
            "Requirement already satisfied: six in /usr/local/lib/python3.10/dist-packages (from taxii2-client) (1.16.0)\n",
            "Requirement already satisfied: pytz in /usr/local/lib/python3.10/dist-packages (from taxii2-client) (2023.3.post1)\n",
            "Requirement already satisfied: charset-normalizer<4,>=2 in /usr/local/lib/python3.10/dist-packages (from requests->taxii2-client) (3.3.2)\n",
            "Requirement already satisfied: idna<4,>=2.5 in /usr/local/lib/python3.10/dist-packages (from requests->taxii2-client) (3.6)\n",
            "Requirement already satisfied: urllib3<3,>=1.21.1 in /usr/local/lib/python3.10/dist-packages (from requests->taxii2-client) (2.0.7)\n",
            "Requirement already satisfied: certifi>=2017.4.17 in /usr/local/lib/python3.10/dist-packages (from requests->taxii2-client) (2023.11.17)\n",
            "Installing collected packages: taxii2-client\n",
            "Successfully installed taxii2-client-2.3.0\n"
          ]
        }
      ]
    },
    {
      "cell_type": "code",
      "source": [
        "updating_avl_tree = AVLTree()\n",
        "updating_avl_tree.build_and_save_new_tree()"
      ],
      "metadata": {
        "colab": {
          "base_uri": "https://localhost:8080/"
        },
        "id": "RTYijPgoX_37",
        "outputId": "3900f779-fbcd-4d65-a60e-e629bd235c63"
      },
      "execution_count": 8,
      "outputs": [
        {
          "output_type": "stream",
          "name": "stdout",
          "text": [
            "Received Content Block:\n",
            "aerosunelectric.com inserted in avl\n",
            "Received Content Block:\n",
            "nothing here\n",
            "Received Content Block:\n",
            "rs.tdsclinical.com inserted in avl\n",
            "Received Content Block:\n",
            "nothing here\n",
            "Received Content Block:\n",
            "j3qxmk6g5sk3zw62i2yhjnwmhm55rfz47fdyfkhaithlpelfjdokdxad.onion inserted in avl\n",
            "Received Content Block:\n",
            "nothing here\n",
            "Received Content Block:\n",
            "aifanul.yachts inserted in avl\n",
            "Received Content Block:\n",
            "nothing here\n",
            "Received Content Block:\n",
            "blessed-with-luck.space inserted in avl\n",
            "Received Content Block:\n",
            "getclouddoc.com inserted in avl\n",
            "Received Content Block:\n",
            "53help.org inserted in avl\n",
            "Received Content Block:\n",
            "archax.privymeet.com inserted in avl\n",
            "Received Content Block:\n",
            "nothing here\n",
            "Received Content Block:\n",
            "ssl.explorecell.com inserted in avl\n",
            "Received Content Block:\n",
            "anonbin.ir inserted in avl\n",
            "Received Content Block:\n",
            "wlynch.com inserted in avl\n",
            "Received Content Block:\n",
            "brolink2s.site inserted in avl\n",
            "Received Content Block:\n",
            "brhosting.net inserted in avl\n",
            "Received Content Block:\n",
            "infinityfreeapp.com inserted in avl\n",
            "Received Content Block:\n",
            "nothing here\n",
            "Received Content Block:\n",
            "cdn.drawinginfopro.com inserted in avl\n",
            "Received Content Block:\n",
            "expertaitalia.eu inserted in avl\n",
            "Received Content Block:\n",
            "webcentral.ps inserted in avl\n",
            "Received Content Block:\n",
            "matclick.com inserted in avl\n",
            "Received Content Block:\n",
            "nothing here\n",
            "Received Content Block:\n",
            "2fgithub.com inserted in avl\n",
            "Received Content Block:\n",
            "nothing here\n",
            "Received Content Block:\n",
            "windows.updates.wiki inserted in avl\n",
            "Received Content Block:\n",
            "updt.ps inserted in avl\n",
            "Received Content Block:\n",
            "nothing here\n",
            "Received Content Block:\n",
            "nothing here\n",
            "Received Content Block:\n",
            "theconomics.net inserted in avl\n",
            "Received Content Block:\n",
            "blazywound.ignorelist.com inserted in avl\n",
            "Received Content Block:\n",
            "positivereview.cloud inserted in avl\n",
            "Received Content Block:\n",
            "2311foreign.xyz inserted in avl\n",
            "Received Content Block:\n",
            "222camo.com inserted in avl\n",
            "Received Content Block:\n",
            "nothing here\n",
            "Received Content Block:\n",
            "nothing here\n",
            "Received Content Block:\n",
            "nothing here\n",
            "Database Updated\n"
          ]
        }
      ]
    },
    {
      "cell_type": "code",
      "source": [
        "updating_avl_tree.search_result('updt.ps')"
      ],
      "metadata": {
        "colab": {
          "base_uri": "https://localhost:8080/"
        },
        "id": "MCeKW0r0eVD7",
        "outputId": "5202e705-8c04-435c-c375-f2632b9ad7a6"
      },
      "execution_count": 9,
      "outputs": [
        {
          "output_type": "stream",
          "name": "stdout",
          "text": [
            "updt.ps found!\n"
          ]
        }
      ]
    },
    {
      "cell_type": "code",
      "source": [
        "updating_avl_tree.build_and_save_new_tree()"
      ],
      "metadata": {
        "colab": {
          "base_uri": "https://localhost:8080/"
        },
        "id": "acnFRpWqfoEc",
        "outputId": "236b12f6-bb27-4433-c949-0eeacb235883"
      },
      "execution_count": 10,
      "outputs": [
        {
          "output_type": "stream",
          "name": "stdout",
          "text": [
            "Received Content Block:\n",
            "Already here not inserted\n",
            "Received Content Block:\n",
            "nothing here\n",
            "Received Content Block:\n",
            "Already here not inserted\n",
            "Received Content Block:\n",
            "nothing here\n",
            "Received Content Block:\n",
            "Already here not inserted\n",
            "Received Content Block:\n",
            "nothing here\n",
            "Received Content Block:\n",
            "Already here not inserted\n",
            "Received Content Block:\n",
            "nothing here\n",
            "Received Content Block:\n",
            "Already here not inserted\n",
            "Received Content Block:\n",
            "Already here not inserted\n",
            "Received Content Block:\n",
            "Already here not inserted\n",
            "Received Content Block:\n",
            "Already here not inserted\n",
            "Received Content Block:\n",
            "nothing here\n",
            "Received Content Block:\n",
            "Already here not inserted\n",
            "Received Content Block:\n",
            "Already here not inserted\n",
            "Received Content Block:\n",
            "Already here not inserted\n",
            "Received Content Block:\n",
            "Already here not inserted\n",
            "Received Content Block:\n",
            "Already here not inserted\n",
            "Received Content Block:\n",
            "Already here not inserted\n",
            "Received Content Block:\n",
            "nothing here\n",
            "Received Content Block:\n",
            "Already here not inserted\n",
            "Received Content Block:\n",
            "Already here not inserted\n",
            "Received Content Block:\n",
            "Already here not inserted\n",
            "Received Content Block:\n",
            "Already here not inserted\n",
            "Received Content Block:\n",
            "nothing here\n",
            "Received Content Block:\n",
            "Already here not inserted\n",
            "Received Content Block:\n",
            "nothing here\n",
            "Received Content Block:\n",
            "Already here not inserted\n",
            "Received Content Block:\n",
            "Already here not inserted\n",
            "Received Content Block:\n",
            "nothing here\n",
            "Received Content Block:\n",
            "nothing here\n",
            "Received Content Block:\n",
            "Already here not inserted\n",
            "Received Content Block:\n",
            "Already here not inserted\n",
            "Received Content Block:\n",
            "Already here not inserted\n",
            "Received Content Block:\n",
            "Already here not inserted\n",
            "Received Content Block:\n",
            "Already here not inserted\n",
            "Received Content Block:\n",
            "nothing here\n",
            "Received Content Block:\n",
            "nothing here\n",
            "Received Content Block:\n",
            "nothing here\n",
            "Database Updated\n"
          ]
        }
      ]
    },
    {
      "cell_type": "code",
      "source": [
        "print(avl_tree_blacklist.search_domain(\"meet-with-wyattdowling.ca\"))"
      ],
      "metadata": {
        "id": "jiub8wjugxJj",
        "colab": {
          "base_uri": "https://localhost:8080/"
        },
        "outputId": "fd8fb611-5800-4225-e4f3-442d790015a8"
      },
      "execution_count": null,
      "outputs": [
        {
          "output_type": "stream",
          "name": "stdout",
          "text": [
            "<__main__.AVLNode object at 0x7f51ddc71180>\n"
          ]
        }
      ]
    },
    {
      "cell_type": "code",
      "source": [
        "import time\n",
        "\n",
        "file_path = '/content/drive/MyDrive/lists/blacklist.txt'\n",
        "\n",
        "# Define the domain to search\n",
        "domain_to_search = 'meet-with-wyattdowling.ca'\n",
        "\n",
        "def search_domain_in_file(file_path, domain):\n",
        "    try:\n",
        "        with open(file_path, 'r') as file:\n",
        "            lines = file.readlines()\n",
        "            for line in lines:\n",
        "                if domain in line:\n",
        "                    return True\n",
        "            return False\n",
        "    except Exception as e:\n",
        "        print(f\"Error: {e}\")\n",
        "        return False\n",
        "\n",
        "start_time = time.time()\n",
        "# Search for the domain in the file\n",
        "result = search_domain_in_file(file_path, domain_to_search)\n",
        "\n",
        "# Print the result\n",
        "if result:\n",
        "    print(f\"The domain {domain_to_search} is in the blacklist.\")\n",
        "else:\n",
        "    print(f\"The domain {domain_to_search} is not in the blacklist.\")\n",
        "end_time = time.time()\n",
        "execution_time = end_time - start_time\n",
        "print(f\"Search took {execution_time:.9f} seconds\")"
      ],
      "metadata": {
        "id": "EYhk3JUTpXHO",
        "colab": {
          "base_uri": "https://localhost:8080/"
        },
        "outputId": "8d1a188c-9b9c-4638-cb7a-1ea3bdebac6b"
      },
      "execution_count": 13,
      "outputs": [
        {
          "output_type": "stream",
          "name": "stdout",
          "text": [
            "The domain meet-with-wyattdowling.ca is in the blacklist.\n",
            "Search took 2.722686291 seconds\n"
          ]
        }
      ]
    }
  ]
}